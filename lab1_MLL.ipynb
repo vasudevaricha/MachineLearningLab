{
 "cells": [
  {
   "cell_type": "code",
   "execution_count": 8,
   "id": "a22f24b2-e38f-4a8e-ad98-eedb4dff539c",
   "metadata": {},
   "outputs": [
    {
     "name": "stdout",
     "output_type": "stream",
     "text": [
      "54\n",
      "908\n",
      "3724\n",
      "332\n",
      "-4.067415730337078\n",
      "93.97003745318352\n"
     ]
    },
    {
     "name": "stdin",
     "output_type": "stream",
     "text": [
      "Enter hours of tv watched over weekend upto 10 hrs 9\n"
     ]
    },
    {
     "name": "stdout",
     "output_type": "stream",
     "text": [
      "Predicted score for 9 hrs is: 57.36329588014982\n"
     ]
    }
   ],
   "source": [
    "hours = [0,1,2,3,3,5,5,6,7,7,10,5]\n",
    "marks = [96,85,82,74,95,68,76,58,65,75,50,84]\n",
    "n = len(hours)\n",
    "x_sum=0\n",
    "y_sum=0\n",
    "xy_sum=0\n",
    "x2_sum=0\n",
    "for i in range(0,n):\n",
    "    x_sum = x_sum+hours[i]\n",
    "    \n",
    "    y_sum = y_sum+marks[i]\n",
    "    \n",
    "    xy_sum = xy_sum+(hours[i]*marks[i])\n",
    "  \n",
    "    x2_sum = x2_sum+(hours[i]*hours[i])\n",
    " \n",
    "print(x_sum)  \n",
    "print(y_sum)\n",
    "print(xy_sum)\n",
    "print(x2_sum)\n",
    "m=((n*xy_sum)-(x_sum*y_sum))/((n*x2_sum)-(x_sum*x_sum))\n",
    "print(m)\n",
    "x_avg = x_sum/n\n",
    "y_avg =y_sum/n\n",
    "c = y_avg-(m*x_avg)\n",
    "print(c)\n",
    "hours_weekend =int(input(\"Enter hours of tv watched over weekend upto 10 hrs\"))\n",
    "predicted_score = (hours_weekend*m)+c\n",
    "print(f\"Predicted score for {hours_weekend} hrs is: {predicted_score}\")\n",
    "    "
   ]
  },
  {
   "cell_type": "code",
   "execution_count": null,
   "id": "3bc197af-9920-4dea-b2b6-1458ee6a3ef5",
   "metadata": {},
   "outputs": [],
   "source": []
  }
 ],
 "metadata": {
  "kernelspec": {
   "display_name": "Python 3 (ipykernel)",
   "language": "python",
   "name": "python3"
  },
  "language_info": {
   "codemirror_mode": {
    "name": "ipython",
    "version": 3
   },
   "file_extension": ".py",
   "mimetype": "text/x-python",
   "name": "python",
   "nbconvert_exporter": "python",
   "pygments_lexer": "ipython3",
   "version": "3.13.5"
  }
 },
 "nbformat": 4,
 "nbformat_minor": 5
}

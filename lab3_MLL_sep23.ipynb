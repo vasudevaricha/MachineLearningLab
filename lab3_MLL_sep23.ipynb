{
 "cells": [
  {
   "cell_type": "code",
   "execution_count": 15,
   "id": "a5397f0e-ef28-4ec9-acad-9301cbac228d",
   "metadata": {},
   "outputs": [
    {
     "name": "stdout",
     "output_type": "stream",
     "text": [
      "0.9318681318681319\n",
      "0.9473684210526315\n"
     ]
    }
   ],
   "source": [
    "import numpy as np\n",
    "\n",
    "def sigmoid(z):\n",
    "    return 1.0/(1.0 + np.exp(-z))\n",
    "\n",
    "\n",
    "def calculate_gradient(theta,X,y):\n",
    "    m = y.size #no of instances\n",
    "    return  (X.T@(sigmoid(X @ theta)-y)/m)\n",
    "\n",
    "def gradient_descent(X,y,alpha=0.1,num_iter=100,tol=1e-7):\n",
    "    X_b=np.c_[np.ones((X.shape[0],1)),X]\n",
    "    theta = np.zeros(X_b.shape[1])\n",
    "\n",
    "    for i in range(num_iter):\n",
    "       grad = calculate_gradient(theta,X_b,y)\n",
    "       theta -= alpha * grad\n",
    "\n",
    "       if np.linalg.norm(grad) < tol:\n",
    "           break\n",
    "\n",
    "       return theta\n",
    "def predict_proba(X,theta):\n",
    "    X_b = np.c_[np.ones((X.shape[0],1)),X]\n",
    "    return sigmoid(X_b @ theta)\n",
    "def predict(X,theta,threshold=0.5):\n",
    "    return(predict_proba(X,theta)>=threshold).astype(int)\n",
    "        \n",
    "from sklearn.datasets import load_breast_cancer\n",
    "from sklearn.preprocessing import StandardScaler\n",
    "from sklearn.model_selection import train_test_split\n",
    "from sklearn.metrics import accuracy_score\n",
    "\n",
    "X,y= load_breast_cancer(return_X_y=True)\n",
    "X_train,X_test,y_train,y_test=train_test_split(X,y,test_size=0.2)\n",
    "scaler=StandardScaler()\n",
    "X_train_scaled = scaler.fit_transform(X_train)\n",
    "X_test_scaled = scaler.transform(X_test)\n",
    "theta_hat = gradient_descent(X_train_scaled,y_train,alpha=0.1)\n",
    "\n",
    "y_pred_train = predict(X_train_scaled,theta_hat)\n",
    "y_pred_test = predict(X_test_scaled,theta_hat)\n",
    "train_acc= accuracy_score(y_train,y_pred_train)\n",
    "test_acc =accuracy_score(y_test,y_pred_test)\n",
    "\n",
    "print(train_acc)\n",
    "print(test_acc)\n",
    "\n",
    "\n",
    "\n"
   ]
  },
  {
   "cell_type": "code",
   "execution_count": null,
   "id": "4fdb8df8-e150-41ff-befc-e40dc566c068",
   "metadata": {},
   "outputs": [],
   "source": []
  }
 ],
 "metadata": {
  "kernelspec": {
   "display_name": "Python 3 (ipykernel)",
   "language": "python",
   "name": "python3"
  },
  "language_info": {
   "codemirror_mode": {
    "name": "ipython",
    "version": 3
   },
   "file_extension": ".py",
   "mimetype": "text/x-python",
   "name": "python",
   "nbconvert_exporter": "python",
   "pygments_lexer": "ipython3",
   "version": "3.13.5"
  }
 },
 "nbformat": 4,
 "nbformat_minor": 5
}
